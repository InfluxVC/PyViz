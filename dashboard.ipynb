{
 "cells": [
  {
   "cell_type": "markdown",
   "metadata": {},
   "source": [
    "# San Francisco Rental Prices Dashboard\n",
    "\n",
    "In this notebook, you will compile the visualizations from the previous analysis into functions that can be used for a Panel dashboard."
   ]
  },
  {
   "cell_type": "code",
   "execution_count": 10,
   "metadata": {},
   "outputs": [],
   "source": [
    "# imports\n",
    "import panel as pn\n",
    "pn.extension('plotly')\n",
    "import plotly.express as px\n",
    "import pandas as pd\n",
    "import hvplot.pandas\n",
    "import matplotlib.pyplot as plt\n",
    "import os\n",
    "from pathlib import Path\n",
    "from dotenv import load_dotenv"
   ]
  },
  {
   "cell_type": "code",
   "execution_count": 11,
   "metadata": {},
   "outputs": [],
   "source": [
    "# Read the Mapbox API key\n",
    "load_dotenv()\n",
    "map_box_api = os.getenv(\"mapbox\")\n",
    "px.set_mapbox_access_token(map_box_api)"
   ]
  },
  {
   "cell_type": "markdown",
   "metadata": {},
   "source": [
    "# Import Data"
   ]
  },
  {
   "cell_type": "code",
   "execution_count": 12,
   "metadata": {},
   "outputs": [],
   "source": [
    "# Import the necessary CSVs to Pandas DataFrames\n"
   ]
  },
  {
   "cell_type": "markdown",
   "metadata": {},
   "source": [
    "- - -"
   ]
  },
  {
   "cell_type": "markdown",
   "metadata": {},
   "source": [
    "## Panel Visualizations\n",
    "\n",
    "In this section, you will copy the code for each plot type from your analysis notebook and place it into separate functions that Panel can use to create panes for the dashboard. \n",
    "\n",
    "These functions will convert the plot object to a Panel pane.\n",
    "\n",
    "Be sure to include any DataFrame transformation/manipulation code required along with the plotting code.\n",
    "\n",
    "Return a Panel pane object from each function that can be used to build the dashboard.\n",
    "\n",
    "Note: Remove any `.show()` lines from the code. We want to return the plots instead of showing them. The Panel dashboard will then display the plots."
   ]
  },
  {
   "cell_type": "code",
   "execution_count": 15,
   "metadata": {},
   "outputs": [
    {
     "ename": "SyntaxError",
     "evalue": "'return' outside function (<ipython-input-15-c0c4aba9c68b>, line 16)",
     "output_type": "error",
     "traceback": [
      "\u001b[0;36m  File \u001b[0;32m\"<ipython-input-15-c0c4aba9c68b>\"\u001b[0;36m, line \u001b[0;32m16\u001b[0m\n\u001b[0;31m    return housing_units_per_year\u001b[0m\n\u001b[0m    ^\u001b[0m\n\u001b[0;31mSyntaxError\u001b[0m\u001b[0;31m:\u001b[0m 'return' outside function\n"
     ]
    }
   ],
   "source": [
    "# Define Panel Visualization Functions\n",
    "\n",
    "def housing_units_per_year():\n",
    "    \"\"\"Housing Units Per Year.\"\"\"\n",
    "    housing_units_per_year = px.scatter_mapbox(\n",
    "        housing_units_per_year,\n",
    "        lat='latitude',\n",
    "        lon='longitude',\n",
    "        size= 'pop_2015',\n",
    "        color='index',\n",
    "        title='Housing Units per Year',\n",
    "        zoom=3,\n",
    "        width=1000,        \n",
    "    )\n",
    "    \n",
    "return housing_units_per_year\n",
    "    \n",
    "    \n",
    "\n",
    "def average_gross_rent():\n",
    "    \"\"\"Average Gross Rent in San Francisco Per Year.\"\"\"\n",
    "average_gross_rent = px.scatter_mapbox(\n",
    "        average_gross_rent,\n",
    "        lat='latitude',\n",
    "        lon='longitude',\n",
    "        size= 'pop_2015',\n",
    "        color='index',\n",
    "        title='Housing Units per Year',\n",
    "        zoom=3,\n",
    "        width=1000,        \n",
    "    )\n",
    "return average_gross_rent\n",
    "    \n",
    "    \n",
    "\n",
    "\n",
    "\n",
    "\n",
    "def average_sales_price():\n",
    "    \"\"\"Average Sales Price Per Year.\"\"\"\n",
    "average_sales_price = px.scatter_mapbox(\n",
    "        average_sales_price,\n",
    "        lat='latitude',\n",
    "        lon='longitude',\n",
    "        size= 'pop_2015',\n",
    "        color='index',\n",
    "        title='Housing Units per Year',\n",
    "        zoom=3,\n",
    "        width=1000,        \n",
    "    )\n",
    "return average_sales_price\n",
    "\n",
    "\n",
    "\n",
    "def average_price_by_neighborhood():\n",
    "    \"\"\"Average Prices by Neighborhood.\"\"\"\n",
    "average_price_by_neighborhood = px.scatter_mapbox(\n",
    "        average_price_by_neighborhood,\n",
    "        lat='latitude',\n",
    "        lon='longitude',\n",
    "        size= 'pop_2015',\n",
    "        color='index',\n",
    "        title='Housing Units per Year',\n",
    "        zoom=3,\n",
    "        width=1000,        \n",
    "    )\n",
    "return average_price_by_neighborhood\n",
    "\n",
    "\n",
    "def top_most_expensive_neighborhoods():\n",
    "    \"\"\"Top 10 Most Expensive Neighborhoods.\"\"\"\n",
    "top_most_expensive_neighborhoods = px.scatter_mapbox(\n",
    "        top_most_expensive_neighborhoods,\n",
    "        lat='latitude',\n",
    "        lon='longitude',\n",
    "        size= 'pop_2015',\n",
    "        color='index',\n",
    "        title='Housing Units per Year',\n",
    "        zoom=3,\n",
    "        width=1000,        \n",
    "    )\n",
    "return top_most_expensive_neighborhoods\n",
    "\n",
    "\n",
    "def most_expensive_neighborhoods_rent_sales():\n",
    "    \"\"\"Comparison of Rent and Sales Prices of Most Expensive Neighborhoods.\"\"\"   \n",
    "    most_expensive_neighborhoods_rent_sales = px.scatter_mapbox(\n",
    "        most_expensive_neighborhoods_rent_sales,\n",
    "        lat='latitude',\n",
    "        lon='longitude',\n",
    "        size= 'pop_2015',\n",
    "        color='index',\n",
    "        title='Housing Units per Year',\n",
    "        zoom=3,\n",
    "        width=1000,        \n",
    "    )\n",
    "return most_expensive_neighborhoods_rent_sales\n",
    "\n",
    "\n",
    "    \n",
    "    \n",
    "def parallel_coordinates():\n",
    "    parallel_coordinates = px.scatter_mapbox(\n",
    "        parallel_coordinates,\n",
    "        lat='latitude',\n",
    "        lon='longitude',\n",
    "        size= 'pop_2015',\n",
    "        color='index',\n",
    "        title='Housing Units per Year',\n",
    "        zoom=3,\n",
    "        width=1000,        \n",
    "    )\n",
    "return parallel_coordinates\n",
    "\n",
    "\n",
    "\n",
    "\n",
    "def parallel_categories():\n",
    "    \"\"\"Parallel Categories Plot.\"\"\"\n",
    "    parallel_categories = px.scatter_mapbox(\n",
    "        parallel_categories,\n",
    "        lat='latitude',\n",
    "        lon='longitude',\n",
    "        size= 'pop_2015',\n",
    "        color='index',\n",
    "        title='Housing Units per Year',\n",
    "        zoom=3,\n",
    "        width=1000,        \n",
    "    )\n",
    "return parallel_categories\n",
    "\n",
    "   \n",
    "\n",
    "\n",
    "def neighborhood_map():\n",
    "    \"\"\"Neighborhood Map.\"\"\"\n",
    "\n",
    "    neighborhood_map = px.scatter_mapbox(\n",
    "        neighborhood_map,\n",
    "        lat='latitude',\n",
    "        lon='longitude',\n",
    "        size= 'pop_2015',\n",
    "        color='index',\n",
    "        title='Housing Units per Year',\n",
    "        zoom=3,\n",
    "        width=1000,        \n",
    "    )\n",
    "return neighborhood_map\n",
    "\n",
    "\n",
    "def sunburst():\n",
    "    \"\"\"Sunburst Plot.\"\"\"\n",
    "    sunburst = px.scatter_mapbox(\n",
    "        sunburst,\n",
    "        lat='latitude',\n",
    "        lon='longitude',\n",
    "        size= 'pop_2015',\n",
    "        color='index',\n",
    "        title='Housing Units per Year',\n",
    "        zoom=3,\n",
    "        width=1000,        \n",
    "    )\n",
    "return sunburst\n",
    "\n",
    "\n",
    " "
   ]
  },
  {
   "cell_type": "markdown",
   "metadata": {},
   "source": [
    "## Panel Dashboard\n",
    "\n",
    "In this section, you will combine all of the plots into a single dashboard view using Panel. Be creative with your dashboard design!"
   ]
  },
  {
   "cell_type": "code",
   "execution_count": 16,
   "metadata": {},
   "outputs": [
    {
     "ename": "UnboundLocalError",
     "evalue": "local variable 'housing_units_per_year' referenced before assignment",
     "output_type": "error",
     "traceback": [
      "\u001b[0;31m---------------------------------------------------------------------------\u001b[0m",
      "\u001b[0;31mUnboundLocalError\u001b[0m                         Traceback (most recent call last)",
      "\u001b[0;32m<ipython-input-16-b400bcb3d778>\u001b[0m in \u001b[0;36m<module>\u001b[0;34m\u001b[0m\n\u001b[1;32m      1\u001b[0m geo_column = pn.Column(\n\u001b[0;32m----> 2\u001b[0;31m     \u001b[0;34m\"## Housing units per year\"\u001b[0m\u001b[0;34m,\u001b[0m \u001b[0mhousing_units_per_year\u001b[0m\u001b[0;34m(\u001b[0m\u001b[0;34m)\u001b[0m\u001b[0;34m,\u001b[0m \u001b[0maverage_gross_rent\u001b[0m\u001b[0;34m(\u001b[0m\u001b[0;34m)\u001b[0m\u001b[0;34m\u001b[0m\u001b[0;34m\u001b[0m\u001b[0m\n\u001b[0m\u001b[1;32m      3\u001b[0m )\n\u001b[1;32m      4\u001b[0m \u001b[0;34m\u001b[0m\u001b[0m\n\u001b[1;32m      5\u001b[0m scatter_column- pn.Column(\n",
      "\u001b[0;32m<ipython-input-15-c0c4aba9c68b>\u001b[0m in \u001b[0;36mhousing_units_per_year\u001b[0;34m()\u001b[0m\n\u001b[1;32m      4\u001b[0m     \u001b[0;34m\"\"\"Housing Units Per Year.\"\"\"\u001b[0m\u001b[0;34m\u001b[0m\u001b[0;34m\u001b[0m\u001b[0m\n\u001b[1;32m      5\u001b[0m     housing_units_per_year = px.scatter_mapbox(\n\u001b[0;32m----> 6\u001b[0;31m         \u001b[0mhousing_units_per_year\u001b[0m\u001b[0;34m,\u001b[0m\u001b[0;34m\u001b[0m\u001b[0;34m\u001b[0m\u001b[0m\n\u001b[0m\u001b[1;32m      7\u001b[0m         \u001b[0mlat\u001b[0m\u001b[0;34m=\u001b[0m\u001b[0;34m'latitude'\u001b[0m\u001b[0;34m,\u001b[0m\u001b[0;34m\u001b[0m\u001b[0;34m\u001b[0m\u001b[0m\n\u001b[1;32m      8\u001b[0m         \u001b[0mlon\u001b[0m\u001b[0;34m=\u001b[0m\u001b[0;34m'longitude'\u001b[0m\u001b[0;34m,\u001b[0m\u001b[0;34m\u001b[0m\u001b[0;34m\u001b[0m\u001b[0m\n",
      "\u001b[0;31mUnboundLocalError\u001b[0m: local variable 'housing_units_per_year' referenced before assignment"
     ]
    }
   ],
   "source": [
    "geo_column = pn.Column(\n",
    "    \"## Housing units per year\", housing_units_per_year(), average_gross_rent()\n",
    ")\n",
    "\n",
    "scatter_column- pn.Column(\n",
    "    \"## Get average sales price\", average_sales_price(), average_sales_prce\n",
    ")\n"
   ]
  },
  {
   "cell_type": "markdown",
   "metadata": {},
   "source": [
    "## Serve the Panel Dashboard"
   ]
  },
  {
   "cell_type": "code",
   "execution_count": null,
   "metadata": {},
   "outputs": [],
   "source": [
    "# Serve the# dashboard\n",
    "# YOUR CODE HERE!"
   ]
  },
  {
   "cell_type": "markdown",
   "metadata": {},
   "source": [
    "# Debugging\n",
    "\n",
    "Note: Some of the Plotly express plots may not render in the notebook through the panel functions.\n",
    "\n",
    "However, you can test each plot by uncommenting the following code"
   ]
  },
  {
   "cell_type": "code",
   "execution_count": null,
   "metadata": {},
   "outputs": [],
   "source": [
    "# housing_units_per_year()"
   ]
  },
  {
   "cell_type": "code",
   "execution_count": null,
   "metadata": {},
   "outputs": [],
   "source": [
    "# average_gross_rent()"
   ]
  },
  {
   "cell_type": "code",
   "execution_count": null,
   "metadata": {},
   "outputs": [],
   "source": [
    "# average_sales_price()"
   ]
  },
  {
   "cell_type": "code",
   "execution_count": null,
   "metadata": {},
   "outputs": [],
   "source": [
    "# average_price_by_neighborhood()"
   ]
  },
  {
   "cell_type": "code",
   "execution_count": null,
   "metadata": {},
   "outputs": [],
   "source": [
    "# top_most_expensive_neighborhoods()"
   ]
  },
  {
   "cell_type": "code",
   "execution_count": null,
   "metadata": {},
   "outputs": [],
   "source": [
    "# most_expensive_neighborhoods_rent_sales()"
   ]
  },
  {
   "cell_type": "code",
   "execution_count": null,
   "metadata": {},
   "outputs": [],
   "source": [
    "# neighborhood_map().show()"
   ]
  },
  {
   "cell_type": "code",
   "execution_count": null,
   "metadata": {},
   "outputs": [],
   "source": [
    "# parallel_categories()"
   ]
  },
  {
   "cell_type": "code",
   "execution_count": null,
   "metadata": {},
   "outputs": [],
   "source": [
    "# parallel_coordinates()"
   ]
  },
  {
   "cell_type": "code",
   "execution_count": null,
   "metadata": {},
   "outputs": [],
   "source": [
    "# sunburst()"
   ]
  },
  {
   "cell_type": "code",
   "execution_count": null,
   "metadata": {},
   "outputs": [],
   "source": []
  }
 ],
 "metadata": {
  "file_extension": ".py",
  "kernelspec": {
   "display_name": "Python [conda env:pyviz]",
   "language": "python",
   "name": "conda-env-pyviz-py"
  },
  "language_info": {
   "codemirror_mode": {
    "name": "ipython",
    "version": 3
   },
   "file_extension": ".py",
   "mimetype": "text/x-python",
   "name": "python",
   "nbconvert_exporter": "python",
   "pygments_lexer": "ipython3",
   "version": "3.8.11"
  },
  "mimetype": "text/x-python",
  "name": "python",
  "npconvert_exporter": "python",
  "pygments_lexer": "ipython3",
  "version": 3
 },
 "nbformat": 4,
 "nbformat_minor": 4
}
